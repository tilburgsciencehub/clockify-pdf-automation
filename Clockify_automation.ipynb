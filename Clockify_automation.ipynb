{
 "cells": [
  {
   "cell_type": "code",
   "execution_count": null,
   "id": "929e3867",
   "metadata": {},
   "outputs": [],
   "source": [
    "# pip install PyPDF2\n",
    "import pandas as pd\n",
    "import numpy as np\n",
    "import os\n",
    "import os.path\n",
    "import requests\n",
    "from datetime import date, timedelta\n",
    "from PyPDF2 import PdfReader, PdfWriter"
   ]
  },
  {
   "cell_type": "code",
   "execution_count": null,
   "id": "c8b53a1f",
   "metadata": {},
   "outputs": [],
   "source": [
    "# extracting workspace ID for the summary report\n",
    "url_base = 'https://api.clockify.me/api/v1/user'\n",
    "API_KEY = os.environ['Clockify_Julie']\n",
    "\n",
    "headers = {'content-type': 'application/json', 'X-Api-Key': API_KEY}\n",
    "response = requests.get(url_base, headers=headers)\n",
    "json_response_base = response.json()\n",
    "json_response_base['id']\n",
    "\n",
    "workspace_id = json_response_base['activeWorkspace']"
   ]
  },
  {
   "cell_type": "code",
   "execution_count": null,
   "id": "73a67c75",
   "metadata": {},
   "outputs": [],
   "source": [
    "# getting first and last day of the previous month\n",
    "current_first = date.today().replace(day=1)\n",
    "prev_last = current_first - timedelta(days=1)\n",
    "prev_first = prev_last.replace(day=1)\n",
    "prev_first_str = str(prev_first)\n",
    "prev_last_str = str(prev_last)"
   ]
  },
  {
   "cell_type": "code",
   "execution_count": null,
   "id": "ba73c6ea",
   "metadata": {},
   "outputs": [],
   "source": [
    "def get_summary_report():\n",
    "    url = f\"https://reports.api.clockify.me/v1/workspaces/\"+workspace_id+\"/reports/summary\"\n",
    "    headers = {'X-Api-Key': API_KEY}\n",
    "    data = {\n",
    "        \"dateRangeStart\": prev_first_str+\"T00:00:00\",\n",
    "        \"dateRangeEnd\": prev_last_str+\"T23:59:59\",\n",
    "        \"summaryFilter\": {\n",
    "            \"groups\": [\n",
    "             \"USER\",\n",
    "             \"DATE\"\n",
    "            ]\n",
    "        }\n",
    "        }\n",
    "\n",
    "    return requests.post(url, headers=headers, json=data).json()"
   ]
  },
  {
   "cell_type": "code",
   "execution_count": null,
   "id": "39e9fa28",
   "metadata": {},
   "outputs": [],
   "source": [
    "summary_report = get_summary_report()"
   ]
  },
  {
   "cell_type": "code",
   "execution_count": null,
   "id": "71b6197c",
   "metadata": {},
   "outputs": [],
   "source": [
    "# json to dataframe\n",
    "dataframe = pd.json_normalize(summary_report, record_path = ['groupOne', 'children'], meta = [['children', 'name']])\n",
    "dataframe = dataframe.drop(columns=['amounts', 'amount', '_id'])"
   ]
  },
  {
   "cell_type": "code",
   "execution_count": null,
   "id": "6471fecd",
   "metadata": {
    "scrolled": true
   },
   "outputs": [],
   "source": [
    "# rename columns\n",
    "dataframe.rename(columns = {'name':'date', 'children.name':'name'}, inplace=True)\n",
    "\n",
    "# calculate duration in hours (decimal form)\n",
    "dataframe['duration_hours'] = dataframe['duration']/3600\n",
    "dataframe['duration_hours'] = dataframe['duration_hours'].apply(lambda x:round(x,2))\n",
    "\n",
    "# calculate total duration per person\n",
    "total_hours = dataframe.groupby(['name'])['duration_hours'].transform('sum')\n",
    "dataframe['total_hours'] = total_hours\n",
    "\n",
    "# extract day from date\n",
    "date_split = dataframe['date'].str.split(\"-\", expand=True)\n",
    "dataframe['day'] = date_split[2]\n",
    "\n",
    "# drop unnecessary columns\n",
    "dataframe = dataframe.drop(columns=['duration', 'date'])\n",
    "\n",
    "# get first name, last name and initial\n",
    "sep_names = dataframe['name'].str.split(' ', expand=True)\n",
    "dataframe['first_name'] = sep_names[0]\n",
    "dataframe['last_name'] = sep_names[1]\n",
    "dataframe['last_name2'] = sep_names[2]\n",
    "dataframe['initial'] = dataframe['first_name'].astype(str).str[0]\n",
    "dataframe.fillna(\"\",inplace=True)"
   ]
  },
  {
   "cell_type": "code",
   "execution_count": null,
   "id": "7d4e82a7",
   "metadata": {
    "scrolled": true
   },
   "outputs": [],
   "source": [
    "dfs = [y for x, y in dataframe.groupby('name')]\n",
    "lenght = len(dfs)\n",
    "\n",
    "for x in range(lenght):\n",
    "    # get dataframe per person\n",
    "    df = pd.DataFrame(dfs[x])\n",
    "    \n",
    "    # create a dictionary of hours per person\n",
    "    dict_of_people = dict(zip(df.day, df.duration_hours))\n",
    "    \n",
    "    # get variables needed to fill in the forms\n",
    "    first_name = df['first_name'].unique()\n",
    "    first_name = str(first_name).replace(\"'\", \"\").replace(\"[\", \"\").replace(\"]\", \"\")\n",
    "    last_name = df['last_name'].unique()\n",
    "    last_name = str(last_name).replace(\"'\", \"\").replace(\"[\", \"\").replace(\"]\", \"\")\n",
    "    last_name2 = df['last_name2'].unique()\n",
    "    last_name2 = str(last_name2).replace(\"'\", \"\").replace(\"[\", \"\").replace(\"]\", \"\")\n",
    "    \n",
    "    def last_name2_field(last_name2):\n",
    "        if last_name2 == \"\":\n",
    "            return last_name2\n",
    "        else:\n",
    "            return ' '+last_name2\n",
    "    \n",
    "    def last_name2_title(last_name2):\n",
    "        if last_name2 == \"\":\n",
    "            return last_name2\n",
    "        else:\n",
    "            return '_'+last_name2        \n",
    "     \n",
    "    last_name2_field = last_name2_field(last_name2)\n",
    "    last_name2_title = last_name2_title(last_name2)\n",
    "    \n",
    "    initial = df['initial'].unique()\n",
    "    initial = str(initial).replace(\"'\", \"\").replace(\"[\", \"\").replace(\"]\", \"\")\n",
    "    total_hours = df['total_hours'].unique()\n",
    "    last_date = prev_first.strftime(\"%Y-%m\")\n",
    "    split_date = last_date.split(\"-\")\n",
    "    month_prev = split_date[1]\n",
    "    year_prev = split_date[0]\n",
    "    year_prev_short = year_prev[-2:]\n",
    "    \n",
    "    # define reader and writer\n",
    "    reader = PdfReader(\"TSH_form.pdf\")\n",
    "    writer = PdfWriter()\n",
    "    \n",
    "    # read pages of the PDF file\n",
    "    page1 = reader.pages[0]\n",
    "    page2 = reader.pages[1]\n",
    "    \n",
    "    # fill in fields in the PDF file\n",
    "    writer.updatePageFormFieldValues(page1, fields=dict_of_people)\n",
    "    writer.updatePageFormFieldValues(page1, {'Surname and initials': last_name+last_name2_field+' '+initial, \n",
    "                                             'month': month_prev, \n",
    "                                             'year': year_prev_short,\n",
    "                                             'Tot': total_hours})\n",
    "    \n",
    "    # add pages\n",
    "    writer.addPage(page1)\n",
    "    writer.addPage(page2)\n",
    "    \n",
    "    # save forms\n",
    "    save_path = './generated_forms/'\n",
    "    filename = initial+'_'+last_name+last_name2_title+'_'+last_date\n",
    "    completeName = os.path.join(save_path, filename+\".pdf\") \n",
    "    with open(completeName,\"wb\") as new:\n",
    "        writer.write(new)"
   ]
  }
 ],
 "metadata": {
  "kernelspec": {
   "display_name": "Python 3 (ipykernel)",
   "language": "python",
   "name": "python3"
  },
  "language_info": {
   "codemirror_mode": {
    "name": "ipython",
    "version": 3
   },
   "file_extension": ".py",
   "mimetype": "text/x-python",
   "name": "python",
   "nbconvert_exporter": "python",
   "pygments_lexer": "ipython3",
   "version": "3.9.7"
  }
 },
 "nbformat": 4,
 "nbformat_minor": 5
}
